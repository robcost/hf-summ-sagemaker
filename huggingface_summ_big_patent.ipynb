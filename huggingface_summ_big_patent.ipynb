{
 "cells": [
  {
   "cell_type": "markdown",
   "id": "6d55cab4",
   "metadata": {},
   "source": [
    "# Huggingface Summarization of Patent documents using SageMaker SDK"
   ]
  },
  {
   "cell_type": "markdown",
   "id": "1f4b7f3b",
   "metadata": {},
   "source": [
    "Example notebook for creating a SageMaker endpoint for content summarization using HuggingFace pre-built models.\n",
    "\n",
    "[Hugging Face example notebooks](https://github.com/huggingface/notebooks)"
   ]
  },
  {
   "cell_type": "markdown",
   "id": "c926112f",
   "metadata": {},
   "source": [
    "### Setup Sagemaker and the HF predictor"
   ]
  },
  {
   "cell_type": "code",
   "execution_count": 7,
   "id": "614bd835",
   "metadata": {},
   "outputs": [
    {
     "name": "stdout",
     "output_type": "stream",
     "text": [
      "-------!"
     ]
    }
   ],
   "source": [
    "from sagemaker.huggingface import HuggingFaceModel\n",
    "import sagemaker\n",
    "\n",
    "role = sagemaker.get_execution_role()\n",
    "# Hub Model configuration. https://huggingface.co/models\n",
    "hub = {\n",
    "    'HF_MODEL_ID':'google/bigbird-pegasus-large-bigpatent',\n",
    "    'HF_TASK':'summarization'\n",
    "}\n",
    "\n",
    "# create Hugging Face Model Class\n",
    "huggingface_model = HuggingFaceModel(\n",
    "    transformers_version='4.6.1',\n",
    "    pytorch_version='1.7.1',\n",
    "    py_version='py36',\n",
    "    env=hub,\n",
    "    role=role, \n",
    ")\n",
    "\n",
    "\n",
    "# deploy model to SageMaker Inference\n",
    "predictor = huggingface_model.deploy(\n",
    "    initial_instance_count=1, # number of instances\n",
    "    instance_type='ml.g4dn.xlarge' # ec2 instance type\n",
    ")"
   ]
  },
  {
   "cell_type": "markdown",
   "id": "7296678b",
   "metadata": {},
   "source": [
    "### Set input data"
   ]
  },
  {
   "cell_type": "code",
   "execution_count": 2,
   "id": "df4eb62f",
   "metadata": {},
   "outputs": [],
   "source": [
    "patent = '''BACKGROUND OF THE DISCLOSURE\n",
    "\n",
    "      1. Technical Field of the Disclosure\n",
    "      This embodiment relates in general to electric cars. More specifically, the preferred embodiment relates to an electric car having a vertical row of seats.\n",
    "      2. Description of the Related Art\n",
    "      An electric car is powered by an electric motor using electrical energy stored in batteries or other charged devices. Electric cars are environment friendly as it do not produce any harmful gases such as carbon monoxide, organic compounds, hydro carbons etc. Electric cars are economical because of very low maintenance and operating costs.\n",
    "      Conventional electric cars have considerable drawbacks. For example, an existing electric car includes an electric drive and at least one connected electrical energy storage module. A guide extends longitudinally along the motor vehicle, and supports the storage module in a manner relative to the motor vehicle. Conventional electric cars employ horizontal rows of seats consuming excess space.\n",
    "      Another existing electric vehicle is capable of carrying at least two passengers and has at least three wheels. Passengers sit in tandem and most of the batteries or fuel cell systems are located to the sides of the passengers. This vehicle has an aerodynamically shaped body with substantially reduced frontal area and drag. The body is lightweight, made from shock absorbing materials and structures, and has pressure-airless tires, which enhances the safety of the passengers. The vehicle also includes an advanced hydrogen-electric hybrid propulsion system with quick refueling from existing infrastructure and various additional optional features and systems. However the batteries or fuel cell systems are placed to the sides of the passengers which increases the overall the dimension and weight of the vehicle.\n",
    "      Yet another existing electrical car embodiment is comprised of bodywork with ground-engaging wheels for vehicle motion over the ground, the bodywork contains an electric motor to drive the vehicle via the wheels and batteries to power the electric motor.\n",
    "      This embodiment provides an additional energy generation means comprised of a tunnel extending through the bodywork. It includes a turbine fan/alternator set located in the tunnel at the rear of the vehicle where electrical energy is generated during vehicle motion to charge the batteries. This results in improved performance of the vehicle, especially with regard to its range. The inlet to the tunnel at the vehicle front constitutes the major portion of the vehicles frontal area. A special alternator is provided, and the vehicle can also include a solar cell means for battery charging. However, the seats are placed far apart which consumes a lot of space.\n",
    "      Hence, it can be seen, that there is a need for an electric car that contains a vertical rows of seats. This needed electric car would save more space than existing models to form a vehicle of smaller size with more passengers. Moreover, this needed electric car would consume less power and use a less bulky charging means during transportation. The present embodiment accomplishes these objectives.\n",
    "SUMMARY OF THE DISCLOSURE\n",
    "\n",
    "      To minimize the limitations found in the prior art, and to minimize other limitations that will be apparent upon the reading of the specifications, the present invention provides an electric car having a vertical row of seat for accommodating at least one passenger. The electric car comprises a center console placed at an interior forepart of the electric car. A steering is attached to the center console. A rectangular seat is mounted on a rectangular box, the rectangular box being longitudinally placed at a center part of the electric car. A storage area is enclosed within the rectangular box, the storage area includes a personal storage and a battery storage. The battery storage includes a battery pack having a set of rechargeable batteries. The battery pack is used to power the electric car. A plug point is located at a rear end of the electric car for charging the battery pack. A pair of rotatable front wheels and a pair of rotatable back wheels are provided for ensuring smooth movement of the electric car. Both the center console and the steering of the electric car are aligned with the rectangular seat. The rectangular seat is mounted on the rectangular box having the storage area in order to save space. The electric car is configured to have a compact seating arrangement. A back support may be provided for a driver's rectangular seat. The electric car is specially designed to achieve better performance by increasing the energy efficiency and reducing the power consumption. The at least one passenger can be seated facing front direction with one leg on each side of the rectangular seat. The electric car is capable of accommodating more passengers with relatively small size and with minimum power consumption during transportation.\n",
    "      In alternate embodiment of the present invention at least one step and ladder seat is positioned at the center part of the electric car. The electric car comprises a car body having a front end, a rear end, a top portion and a bottom portion. A center console placed at an interior forepart of the electric car. A steering is attached to the center console. At least one step and ladder seat is positioned at the center part of the electric car for accommodating at least one passenger. In addition to the at least one step and ladder seat, a horizontal row of seats for accommodating a pair of passengers is located at the rear end of the vehicle. A battery storage having a battery pack is positioned at the bottom portion of step and ladder seat for powering the electric car. A plug point is located at a rear end of the electric car for charging the battery pack. A personal storage is placed at the rear end of horizontal row of seat.\n",
    "      One objective of the invention is to provide an electric car capable of accommodating four or more passengers with relatively smaller vehicle size.\n",
    "      Another objective of the invention is to provide an electric car with compact seating arrangement.\n",
    "      A third objective of the invention is to provide an electric car with better performance by increasing the energy efficiency and reducing the power consumption.\n",
    "      These and other advantages and features of the present invention are described with specificity so as to make the present invention understandable to one of ordinary skill in the art.'''\n",
    "\n",
    "data= {\"inputs\":patent}"
   ]
  },
  {
   "cell_type": "code",
   "execution_count": 8,
   "id": "c5bfd519",
   "metadata": {},
   "outputs": [],
   "source": [
    "patent = '''FIELD OF THE INVENTION\n",
    "The invention relates generally to interconnected solar cells. In particular, the invention relates to methods for connecting solar cells.\n",
    "\n",
    "BACKGROUND OF THE INVENTION\n",
    "Manufacturing cost and yield are critical to producing economical solar cell modules. Solar cells are generally connected with a flat wire (e.g., a tab) soldered onto the solar cell. Solder coated copper is generally utilized by the solar cell industry in connecting silicon solar cells. However, connecting solar cells can have undesirable side effects. As a result of its higher coefficient of thermal expansion, copper wire contracts much more than the solar cell upon cooling from soldering.\n",
    "In the case of ribbon solar cells, differential contraction can increase manufacturing cost and reduce yield by cracking solar cells during the connection. Of greater concern, differential contraction can form microscopic cracks in the solar cell, which can enlarge when the solar cells are stressed, and can ultimately form macroscopic cracks (e.g., a cracked cell). Cracking can cause long term problems including reduced reliability, mechanical failure, and power decay.\n",
    "\n",
    "SUMMARY OF THE INVENTION\n",
    "The invention, in various embodiments, features methods and apparatus for connecting solar cells. A wire's coefficient of thermal expansion (CTE) can be matched to a solar cell's CTE, which can mitigate cracking of the solar cell after connection to the wire. Advantages of the invention include: increased yield, reduced cost, reduced degradation, reduced cracking, reduced power loss, and higher reliability for interconnected solar cells.\n",
    "In various aspects, the invention features interconnected solar cells including a first solar cell and a second solar cell connected by a wire. The wire includes (i) a first material with a coefficient of thermal expansion about equal to the first solar cell's coefficient of thermal expansion and (ii) a conductive material for facilitating electrical current flow between the first solar cell and the second solar cell.\n",
    "In one aspect, the invention features interconnected solar cells including a first solar cell and a second solar cell connected by a wire. The solar cells each include a silicon wafer that has a thickness of less than about 300 microns. The wire includes (i) a first material with a coefficient of thermal expansion about equal to the first solar cell's coefficient of thermal expansion and (ii) a conductive material for facilitating electrical current flow between the first solar cell and the second solar cell.\n",
    "In another aspect, the invention features a method for forming interconnected solar cells. The method includes providing a first solar cell, disposing a second solar cell adjacent the first solar cell, and connecting the two solar cells with a wire. The solar cells each include a silicon wafer that is less than about 300 microns thick. The wire includes (i) a first material having a coefficient of thermal expansion about equal to the first solar cell's coefficient of thermal expansion and (ii) a conductive material for facilitating electrical current flow between the first solar cell and the second solar cell.\n",
    "In yet another aspect, the invention features interconnected solar cells. The\n",
    "interconnected solar cells include a first semiconductor wafer and a second semiconductor wafer, each less than about 300 microns thick. The first and second semiconductor wafers are connected by a wire, which includes a first material having a coefficient of thermal expansion about equal to the first semiconductor wafer's coefficient of thermal expansion. The wire also includes a conductive material for facilitating electrical communication between the first semiconductor wafer and the second semiconductor wafer.\n",
    "In still another aspect, the invention features a method for forming interconnected solar cells. The method includes providing a first semiconductor wafer, disposing a second semiconductor wafer adjacent the first semiconductor wafer, and connecting the two\n",
    "semiconductor wafers with a wire. The first semiconductor wafer and the second semiconductor wafer are less than about 300 microns thick. The wire includes (i) a first material having a coefficient of thermal expansion about equal to the first semiconductor wafer's coefficient of thermal expansion and (ii) a conductive material for facilitating electrical communication between the first semiconductor wafer and the second semiconductor wafer.\n",
    "In still yet another example, the invention features interconnected solar cells. The interconnected solar cells include a first solar cell and a second solar cell and a wire connecting the first solar cell and the second solar cell. The wire includes a first material having a coefficient of thermal expansion about equal to the first solar cell's coefficient of thermal expansion and a conductive material for facilitating electrical current flow between the first solar cell and the second solar cell.\n",
    "In other examples, any of the aspects above, or any apparatus or method described herein, can include one or more of the following features.\n",
    "In various embodiments, the silicon wafer or semiconductor wafer is characterized by a thickness of between about 50 microns and about 200 microns. The first solar cell can include ribbon silicon. In some embodiments, the conductive material is copper or aluminum. In some embodiments, the wire includes a nickel iron alloy. The wire can be a copper-invar composite. The wire can include about 30% to about 90% copper by volume. The copper-invar composite can have a ratio of about 50% copper to about 50% invar by volume.\n",
    "In various embodiments, the method includes soldering the wire to the first solar cell and soldering the wire to the second solar cell to electrically connect the first solar cell and the second solar cell to form the interconnected solar cells. In some embodiments, the method includes matching the first coefficient of thermal expansion and a coefficient of thermal expansion of the wire to mitigate cracking the first solar cell upon soldering and cooling of the wire and the first solar cell.\n",
    "Other aspects and advantages of the invention will become apparent from the following drawings and description, all of which illustrate principles of the invention, by way of example only.\n",
    "\n",
    "BRIEF DESCRIPTION OF THE DRAWINGS\n",
    "The advantages of the invention described above, together with further advantages, may be better understood by referring to the following description taken in conjunction with the accompanying drawings. The drawings are not necessarily to scale, emphasis instead generally being placed upon illustrating the principles of the invention.\n",
    "FIGS. IA and IB show alternative views of exemplary interconnected solar cells.\n",
    "FIG. 2A shows an exemplary cracked solar cell.\n",
    "FIG. 2B shows an exemplary model for cracking.\n",
    "FIG. 3 shows exemplary power degradation as a function of number of cracked solar cells.\n",
    "FIG. 4 shows a cross section of an exemplary wire.\n",
    "FIG. 5 shows a cross section of another exemplary wire.\n",
    "FIG. 6 shows a cross section of yet another exemplary wire.\n",
    "FIG. 7 shows a thermal expansion profile of an exemplary wire.\n",
    "FIG. 8 shows a composite wire.\n",
    "FIG. 9 shows exemplary cracking of solar cells.\n",
    "FIG. 10 shows an exemplary technique for forming interconnected solar cells.\n",
    "\n",
    "DETAILED DESCRIPTION OF THE INVENTION\n",
    "\n",
    "FIG. IA shows an exemplary side view of interconnected solar cells 101 including a first solar cell 103, a second solar cell 105, and a wire 107. The wire connects a first surface 109 of the first solar cell 103 and a second surface 111 of the second solar cell 105. FIG. IB shows an exemplary top view of the interconnected solar cells 101. The coefficient of thermal expansion (CTE) of the wire 107 can be matched to the CTE of one or both of the solar cells 103, 105. This can mitigate cracking of a solar cell 103, 105 after connection to the wire 107.\n",
    "A solar cell can include a semiconductor wafer, a front metallization layer, and/or a back metallization layer. The semiconductor wafer can be a silicon wafer. The semiconductor wafer can have a thickness of less than about 300 microns. In some embodiments, the semiconductor wafer is between about 50 microns and about 200 microns thick. In certain embodiments, the semiconductor wafer is between about 50 and about 100 microns thick. In certain other embodiments, the semiconductor wafer is between about 100 and about 200 microns thick. In one embodiment, the semiconductor wafer is about 150 microns thick. In one embodiment, the semiconductor wafer is about 80 microns thick.\n",
    "In certain embodiments, the solar cell includes silicon. The silicon can be doped by materials including boron. A dopant and/or amount of dopant can be chosen to achieve a desired resistivity. In some embodiments, the solar cell can include a Group IV element, such as germanium.\n",
    "In some embodiments, a solar cell can include ribbon silicon, which can be formed by a STRING RIBBON™ technique. In the STRING RIBBON™ technique, two high temperature strings are pulled vertically through a shallow silicon melt, and the molten silicon spans and freezes between the strings. The process is continuous: long strings are unwound from spools; the melt is replenished; and the silicon ribbon is cut to length for further processing, without interrupting growth. This advantage in material efficiency means a STRING RIBBON™ technique yields over twice as many solar cells per pound of silicon as conventional methods. Additionally, the resulting distinctive shape of the solar cell allows for a high packing density.\n",
    "\n",
    "In various embodiments, two or more interconnected solar cells can be laminated to form a solar cell module. In some embodiments, interconnected solar cells can be laminated between a glass layer and a plastic layer. In certain embodiments, the laminated, interconnected solar cells can be framed. The frame can be aluminum or extruded aluminum.\n",
    "FIG. 2A shows an interconnected solar cell 201 including a solar cell 203, a first copper wire 205, and a second copper wire 207. The interconnected solar cell 201 includes a first crack 209 formed proximally to the point of soldering of the first copper wire 205. Soldering to connect the first and second copper wires 205, 207 to the solar cell 203 raises the temperature of each component. Because the first and second copper wires 205, 207 have a higher CTE than the solar cell 203, the first and second copper wires 205, 207 contract more than the solar cell 203 upon cooling. The different rates of contraction upon cooling can form cracks, and/or micro cracks in the solar cell, and reduce manufacturing yield.\n",
    "\n",
    "FIG. 2B also shows an exemplary model for cracking of a solar cell within a solar cell module 213. A glass layer 215 and a backskin layer 217 encapsulate the solar cell 219 to form the solar cell module 213. Applying force to the encapsulated solar cell module 213 can simulate stress to which the solar cell module 213 is exposed during use (e.g., wind, rain, snow, and ice). Stress can form cracks, macroscopic cracks, and/or cracked cells, resulting in problems including solar cell failures and/or power degradation.\n",
    "In solar cells including a semiconductor wafer of thickness greater than about 300 microns, the difference in CTE between the solar cell (e.g., silicon) and the wire (e.g., copper) does necessarily not cause problematic or macroscopic cracking. However, in solar cells including a semiconductor wafer characterized by a thickness less than about 300 microns, stress caused by thermal contraction of the wire upon soldering and cooling can induce cracking and/or microscopic cracks, which can cause problematic or macroscopic cracking.\n",
    "FIG. 3 shows exemplary maximum power (Pmax) degradation as a function of number of cracked solar cells. Table 1 (below) tabulates the data plotted in FIG. 3. The tested modules include wire of copper or copper clad Invar composite. The copper wire was 75 microns thick, excluding solder. The Invar composite wire was 100 microns thick, excluding solder, and included about 50% Invar42 by volume. After interconnecting the solar cells with the two different wires, modules were constructed by encapsulating the interconnected solar cells in glass and plastic backsheet layers. Each module was stressed by loading bricks on the top surface. The power of each module was measured and recorded. Each module was then placed in a thermal cycling chamber and a damp heat environmental chamber to simulate long term environmental exposure, after which the power of each module was again measured and recorded. Each type of wire was tested twice. Modules including Invar composite wires suffered fewer cracked solar cells and less power loss than the modules including copper wires.\n",
    "\n",
    "Table 1. Solar cell module power degradation upon exposure to stress.\n",
    "\n",
    "\n",
    "FIG. 4 shows a cross section of an exemplary composite wire 503 with a round cross section including an Invar core 505 and a copper cladding 507.\n",
    "FIG. 5 shows a cross section of an exemplary composite wire 603 with an oval cross section including an Invar core 605 and a copper cladding 607.\n",
    "FIG. 6 shows a cross section of an exemplary composite wire 703 with a rectangular cross section including an Invar core 705 and a copper cladding 707.\n",
    "Including copper in a composite wire facilitates electrical current flow between solar cells. However, copper's CTE is greater than silicon's CTE, which can cause cracking of the solar cell after soldering. Invar's CTE is about equal to, or lower than, silicon's CTE. Including Invar with copper in a composite wire can help match the CTE of the composite wire to the CTE of silicon, mitigating cracking of the solar cell after soldering.\n",
    "In various embodiments, copper can be substituted by another conductive material (e.g., aluminum, gold, silver). In some embodiments, Invar can be substituted by another low CTE material (e.g., Kovar, Rodar, Havar, or NiIo). The copper and Invar can form a composite, but are not necessarily commingled. The wire can include about 30% to about 90% conductive material by volume. In one embodiment, the wire includes about 50% copper and about 50% Invar. Invar and copper clad Invar are readily available from a number of distributors, including Torpedo Specialty Wire, Inc. (Rocky Mount, NC) and Ulbrich Precision Flat Wire, LLC\n",
    "(Westminster, SC).\n",
    "In some embodiments, the wire is flat, has width of about 1 mm to about 4 mm, and/or a thickness of about 75 to about 200 microns. Increasing a wire's copper content has the advantage of reducing resistive power loss, but the disadvantage of increasing CTE. Increasing a wire's Invar content has the advantage of decreasing CTE. However, increasing a wire's diameter (e.g., the amount of copper and/or Invar) has the disadvantage of increasing interconnected solar cell cost.\n",
    "FIG. 7 shows a thermal expansion profile 801 of an exemplary wire. Composite wires according to the invention can have a CTE such that they do not have a large percent expansion (%E) when heating/cooling between about room temperature (Tl) and about the temperature of soldering (T2). The CTE of the composite wire can be matched to about the CTE of the solar cell by modulating the amount of (i) the low CTE material (e.g., Invar) and (ii) the conductive material (e.g., copper).\n",
    "FIG. 8 shows a section of an interconnected solar cell 901 including a composite wire 903 with an Invar (e.g., Ni-Fe alloy) core 905 and copper cladding 907. Copper has a higher CTE (16.5 ppm/°C) than silicon (2.6 ppm/°C) and Invar has a lower CTE (2 ppm/°C for Invar36) than silicon. The resulting composite wire has a CTE matched to about the CTE of the solar cell (e.g., silicon). Attaching a solar cell including a semiconductor wafer with a thickness of less than about 300 microns (e.g., about 50 to about 200 microns) with a composite wire according the invention can reduce cracking compared to traditional (e.g., copper or tin clad copper) wires.\n",
    "\n",
    "The interconnected solar cell 901 also includes a first 909 epoxy layer, a top 911 solder layer, a bottom 913 solder layer, a second 915 epoxy layer, a front 917 Ag layer, and a silicon wafer 919.\n",
    "FIG. 9 shows exemplary cracking of encapsulated, aluminum framed solar cell modules before and after stress. Piling bricks across the face of each module caused the center, unsupported region of each module to sag. Cracks were counted by applying an electrical bias to the modules such that the cells emitted light in an electroluminescent mode. A video camera with a filter imaged the emitted light. Cracked regions appeared as dark lines or dark regions. Before stressing the solar cell modules, there were essentially no macroscopic cracks in either test set. After stressing the solar cell modules, the copper wire test set (Cu 1-3) develops about an order of magnitude more macroscopic cracks than the composite wire test set (Invar 1-3).\n",
    "FIG. 10 shows a technique for forming an interconnected solar cell. The technique includes providing a first solar cell (step 1103), disposing a second solar cell adjacent the first solar cell (step 1105), and connecting the first and the second solar cells with a wire (step 1107). The first solar cell and the second solar cell can include a silicon wafer that is less than about 300 microns thick. The wire includes a first material having a coefficient of thermal expansion about equal to the first solar cell's coefficient of thermal expansion. The wire also includes a conductive material for facilitating electrical current flow between the first solar cell and the second solar cell.\n",
    "In various embodiments, the wire is soldered to the first solar cell and the second solar cell to electrically connect the solar cells and form the interconnected solar cell. In some embodiments, the first coefficient of thermal expansion and a coefficient of thermal expansion of the wire are matched to mitigate cracking the first solar cell upon soldering and cooling of the wire and the first solar cell.\n",
    "While the invention has been particularly shown and described with reference to specific embodiments, it should be understood by those skilled in the art that various changes in form and detail may be made without departing from the spirit and scope of the invention as defined by the appended claims. '''\n",
    "\n",
    "data= {\"inputs\":patent}"
   ]
  },
  {
   "cell_type": "markdown",
   "id": "3d0b6a9c",
   "metadata": {},
   "source": [
    "### Run example prediction"
   ]
  },
  {
   "cell_type": "code",
   "execution_count": 9,
   "id": "98ad35b1",
   "metadata": {},
   "outputs": [
    {
     "data": {
      "text/plain": [
       "[{'summary_text': 'Methods and apparatus for connecting solar cells. The interconnected solar cells include a first solar cell and a second solar cell connected by a wire. The wire includes a first material with a coefficient of thermal expansion about equal to the first solar cell and a conductive material for facilitating electrical current flow between the first solar cell and the second solar cell.'}]"
      ]
     },
     "execution_count": 9,
     "metadata": {},
     "output_type": "execute_result"
    }
   ],
   "source": [
    "predictor.predict(data)"
   ]
  },
  {
   "cell_type": "markdown",
   "id": "fe3bb751",
   "metadata": {},
   "source": [
    "### Delete the SageMaker Endpoint"
   ]
  },
  {
   "cell_type": "code",
   "execution_count": 10,
   "id": "fb05911d",
   "metadata": {},
   "outputs": [],
   "source": [
    "predictor.delete_endpoint()"
   ]
  },
  {
   "cell_type": "code",
   "execution_count": null,
   "id": "34ccccc2",
   "metadata": {},
   "outputs": [],
   "source": []
  }
 ],
 "metadata": {
  "kernelspec": {
   "display_name": "conda_pytorch_latest_p36",
   "language": "python",
   "name": "conda_pytorch_latest_p36"
  },
  "language_info": {
   "codemirror_mode": {
    "name": "ipython",
    "version": 3
   },
   "file_extension": ".py",
   "mimetype": "text/x-python",
   "name": "python",
   "nbconvert_exporter": "python",
   "pygments_lexer": "ipython3",
   "version": "3.6.13"
  }
 },
 "nbformat": 4,
 "nbformat_minor": 5
}
