{
 "cells": [
  {
   "cell_type": "code",
   "execution_count": null,
   "id": "6ae4d7fd",
   "metadata": {},
   "outputs": [],
   "source": [
    "!pip install sentencepiece"
   ]
  },
  {
   "cell_type": "code",
   "execution_count": null,
   "id": "93bdec81",
   "metadata": {},
   "outputs": [],
   "source": [
    "!pip install tqdm"
   ]
  },
  {
   "cell_type": "code",
   "execution_count": null,
   "id": "047580c5",
   "metadata": {
    "scrolled": true
   },
   "outputs": [],
   "source": [
    "!pip install \"sagemaker>=2.48.0\" \"transformers==4.6.1\" \"datasets[s3]==1.6.2\" --upgrade"
   ]
  },
  {
   "cell_type": "code",
   "execution_count": null,
   "id": "e7e3a8e0",
   "metadata": {},
   "outputs": [],
   "source": [
    "from transformers import T5Tokenizer, T5ForConditionalGeneration\n",
    "\n",
    "tokenizer = T5Tokenizer.from_pretrained(\"t5-base\")\n",
    "model = T5ForConditionalGeneration.from_pretrained(\"t5-base\")"
   ]
  },
  {
   "cell_type": "code",
   "execution_count": null,
   "id": "24f63812",
   "metadata": {},
   "outputs": [],
   "source": [
    "input_ids = tokenizer(\"translate English to French: There is no single one attribute that makes a good primary health provider.\", return_tensors=\"pt\").input_ids\n",
    "outputs = model.generate(input_ids)\n",
    "print(tokenizer.decode(outputs[0], skip_special_tokens=True))"
   ]
  },
  {
   "cell_type": "markdown",
   "id": "ef2b7baf",
   "metadata": {},
   "source": [
    "---"
   ]
  },
  {
   "cell_type": "code",
   "execution_count": null,
   "id": "00fab26b",
   "metadata": {},
   "outputs": [],
   "source": [
    "patent = '''summarize: To minimize the limitations found in the prior art, and to minimize other limitations that will be apparent upon the reading of the specifications, the present invention provides an electric car having a vertical row of seat for accommodating at least one passenger. The electric car comprises a center console placed at an interior forepart of the electric car. A steering is attached to the center console. A rectangular seat is mounted on a rectangular box, the rectangular box being longitudinally placed at a center part of the electric car. A storage area is enclosed within the rectangular box, the storage area includes a personal storage and a battery storage. The battery storage includes a battery pack having a set of rechargeable batteries. The battery pack is used to power the electric car. A plug point is located at a rear end of the electric car for charging the battery pack. A pair of rotatable front wheels and a pair of rotatable back wheels are provided for ensuring smooth movement of the electric car. Both the center console and the steering of the electric car are aligned with the rectangular seat. The rectangular seat is mounted on the rectangular box having the storage area in order to save space. The electric car is configured to have a compact seating arrangement. A back support may be provided for a driver's rectangular seat. The electric car is specially designed to achieve better performance by increasing the energy efficiency and reducing the power consumption. The at least one passenger can be seated facing front direction with one leg on each side of the rectangular seat. The electric car is capable of accommodating more passengers with relatively small size and with minimum power consumption during transportation.\n",
    "      In alternate embodiment of the present invention at least one step and ladder seat is positioned at the center part of the electric car. The electric car comprises a car body having a front end, a rear end, a top portion and a bottom portion. A center console placed at an interior forepart of the electric car. A steering is attached to the center console. At least one step and ladder seat is positioned at the center part of the electric car for accommodating at least one passenger. In addition to the at least one step and ladder seat, a horizontal row of seats for accommodating a pair of passengers is located at the rear end of the vehicle. A battery storage having a battery pack is positioned at the bottom portion of step and ladder seat for powering the electric car. A plug point is located at a rear end of the electric car for charging the battery pack. A personal storage is placed at the rear end of horizontal row of seat.\n",
    "      One objective of the invention is to provide an electric car capable of accommodating four or more passengers with relatively smaller vehicle size.\n",
    "      Another objective of the invention is to provide an electric car with compact seating arrangement.\n",
    "      A third objective of the invention is to provide an electric car with better performance by increasing the energy efficiency and reducing the power consumption.\n",
    "      These and other advantages and features of the present invention are described with specificity so as to make the present invention understandable to one of ordinary skill in the art.'''"
   ]
  },
  {
   "cell_type": "code",
   "execution_count": null,
   "id": "ddd16e1e",
   "metadata": {},
   "outputs": [],
   "source": [
    "input_ids = tokenizer(patent, return_tensors=\"pt\").input_ids\n",
    "outputs = model.generate(input_ids)\n",
    "\n",
    "print(tokenizer.decode(outputs[0], skip_special_tokens=True))"
   ]
  },
  {
   "cell_type": "markdown",
   "id": "199d1652",
   "metadata": {},
   "source": [
    "---"
   ]
  },
  {
   "cell_type": "code",
   "execution_count": null,
   "id": "b0653c79",
   "metadata": {},
   "outputs": [],
   "source": [
    "from transformers import AutoTokenizer, AutoModelForSeq2SeqLM\n",
    "\n",
    "tokenizer = AutoTokenizer.from_pretrained(\"google/pegasus-big_patent\")\n",
    "\n",
    "model = AutoModelForSeq2SeqLM.from_pretrained(\"google/pegasus-big_patent\")"
   ]
  },
  {
   "cell_type": "code",
   "execution_count": null,
   "id": "2985a548",
   "metadata": {},
   "outputs": [],
   "source": [
    "input_ids = tokenizer(patent, return_tensors=\"pt\").input_ids\n",
    "outputs = model.generate(input_ids)\n",
    "\n",
    "print(tokenizer.decode(outputs[0], skip_special_tokens=True))"
   ]
  },
  {
   "cell_type": "markdown",
   "id": "ef74ed81",
   "metadata": {},
   "source": [
    "---"
   ]
  },
  {
   "cell_type": "code",
   "execution_count": null,
   "id": "3a91213d",
   "metadata": {},
   "outputs": [],
   "source": [
    "from transformers import BigBirdPegasusForConditionalGeneration, AutoTokenizer\n",
    "\n",
    "tokenizer = AutoTokenizer.from_pretrained(\"google/bigbird-pegasus-large-bigpatent\")\n",
    "\n",
    "# by default encoder-attention is `block_sparse` with num_random_blocks=3, block_size=64\n",
    "model = BigBirdPegasusForConditionalGeneration.from_pretrained(\"google/bigbird-pegasus-large-bigpatent\")\n",
    "\n",
    "# decoder attention type can't be changed & will be \"original_full\"\n",
    "# you can change `attention_type` (encoder only) to full attention like this:\n",
    "model = BigBirdPegasusForConditionalGeneration.from_pretrained(\"google/bigbird-pegasus-large-bigpatent\", attention_type=\"original_full\")\n",
    "\n",
    "# you can change `block_size` & `num_random_blocks` like this:\n",
    "#model = BigBirdPegasusForConditionalGeneration.from_pretrained(\"google/bigbird-pegasus-large-bigpatent\", block_size=16, num_random_blocks=2)\n",
    "\n"
   ]
  },
  {
   "cell_type": "code",
   "execution_count": null,
   "id": "0bdbccca",
   "metadata": {},
   "outputs": [],
   "source": [
    "patent = '''FIELD OF THE INVENTION The invention relates generally to interconnected solar cells. In particular, the invention relates to methods for connecting solar cells.BACKGROUND OF THE INVENTIONManufacturing cost and yield are critical to producing economical solar cell modules. Solar cells are generally connected with a flat wire (e.g., a tab) soldered onto the solar cell. Solder coated copper is generally utilized by the solar cell industry in connecting silicon solar cells. However, connecting solar cells can have undesirable side effects. As a result of its higher coefficient of thermal expansion, copper wire contracts much more than the solar cell upon cooling from soldering.In the case of ribbon solar cells, differential contraction can increase manufacturing cost and reduce yield by cracking solar cells during the connection. Of greater concern, differential contraction can form microscopic cracks in the solar cell, which can enlarge when the solar cells are stressed, and can ultimately form macroscopic cracks (e.g., a cracked cell). Cracking can cause long term problems including reduced reliability, mechanical failure, and power decay.SUMMARY OF THE INVENTIONThe invention, in various embodiments, features methods and apparatus for connecting solar cells. A wire's coefficient of thermal expansion (CTE) can be matched to a solar cell's CTE, which can mitigate cracking of the solar cell after connection to the wire. Advantages of the invention include: increased yield, reduced cost, reduced degradation, reduced cracking, reduced power loss, and higher reliability for interconnected solar cells.In various aspects, the invention features interconnected solar cells including a first solar cell and a second solar cell connected by a wire. The wire includes (i) a first material with a coefficient of thermal expansion about equal to the first solar cell's coefficient of thermal expansion and (ii) a conductive material for facilitating electrical current flow between the first solar cell and the second solar cell.In one aspect, the invention features interconnected solar cells including a first solar cell and a second solar cell connected by a wire. The solar cells each include a silicon wafer that has a thickness of less than about 300 microns. The wire includes (i) a first material with a coefficient of thermal expansion about equal to the first solar cell's coefficient of thermal expansion and (ii) a conductive material for facilitating electrical current flow between the first solar cell and the second solar cell.In another aspect, the invention features a method for forming interconnected solar cells. The method includes providing a first solar cell, disposing a second solar cell adjacent the first solar cell, and connecting the two solar cells with a wire. The solar cells each include a silicon wafer that is less than about 300 microns thick. The wire includes (i) a first material having a coefficient of thermal expansion about equal to the first solar cell's coefficient of thermal expansion and (ii) a conductive material for facilitating electrical current flow between the first solar cell and the second solar cell.In yet another aspect, the invention features interconnected solar cells. Theinterconnected solar cells include a first semiconductor wafer and a second semiconductor wafer, each less than about 300 microns thick. The first and second semiconductor wafers are connected by a wire, which includes a first material having a coefficient of thermal expansion about equal to the first semiconductor wafer's coefficient of thermal expansion. The wire also includes a conductive material for facilitating electrical communication between the first semiconductor wafer and the second semiconductor wafer.In still another aspect, the invention features a method for forming interconnected solar cells. The method includes providing a first semiconductor wafer, disposing a second semiconductor wafer adjacent the first semiconductor wafer, and connecting the twosemiconductor wafers with a wire. The first semiconductor wafer and the second semiconductor wafer are less than about 300 microns thick. The wire includes (i) a first material having a coefficient of thermal expansion about equal to the first semiconductor wafer's coefficient of thermal expansion and (ii) a conductive material for facilitating electrical communication between the first semiconductor wafer and the second semiconductor wafer.In still yet another example, the invention features interconnected solar cells. The interconnected solar cells include a first solar cell and a second solar cell and a wire connecting the first solar cell and the second solar cell. The wire includes a first material having a coefficient of thermal expansion about equal to the first solar cell's coefficient of thermal expansion and a conductive material for facilitating electrical current flow between the first solar cell and the second solar cell.In other examples, any of the aspects above, or any apparatus or method described herein, can include one or more of the following features.In various embodiments, the silicon wafer or semiconductor wafer is characterized by a thickness of between about 50 microns and about 200 microns. The first solar cell can include ribbon silicon. In some embodiments, the conductive material is copper or aluminum. In some embodiments, the wire includes a nickel iron alloy. The wire can be a copper-invar composite. The wire can include about 30% to about 90% copper by volume. The copper-invar composite can have a ratio of about 50% copper to about 50% invar by volume.In various embodiments, the method includes soldering the wire to the first solar cell and soldering the wire to the second solar cell to electrically connect the first solar cell and the second solar cell to form the interconnected solar cells. In some embodiments, the method includes matching the first coefficient of thermal expansion and a coefficient of thermal expansion of the wire to mitigate cracking the first solar cell upon soldering and cooling of the wire and the first solar cell.Other aspects and advantages of the invention will become apparent from the following drawings and description, all of which illustrate principles of the invention, by way of example only.BRIEF DESCRIPTION OF THE DRAWINGSThe advantages of the invention described above, together with further advantages, may be better understood by referring to the following description taken in conjunction with the accompanying drawings. The drawings are not necessarily to scale, emphasis instead generally being placed upon illustrating the principles of the invention.FIGS. IA and IB show alternative views of exemplary interconnected solar cells.FIG. 2A shows an exemplary cracked solar cell.FIG. 2B shows an exemplary model for cracking.FIG. 3 shows exemplary power degradation as a function of number of cracked solar cells.FIG. 4 shows a cross section of an exemplary wire.FIG. 5 shows a cross section of another exemplary wire.FIG. 6 shows a cross section of yet another exemplary wire.FIG. 7 shows a thermal expansion profile of an exemplary wire.FIG. 8 shows a composite wire.FIG. 9 shows exemplary cracking of solar cells.FIG. 10 shows an exemplary technique for forming interconnected solar cells.DETAILED DESCRIPTION OF THE INVENTIONFIG. IA shows an exemplary side view of interconnected solar cells 101 including a first solar cell 103, a second solar cell 105, and a wire 107. The wire connects a first surface 109 of the first solar cell 103 and a second surface 111 of the second solar cell 105. FIG. IB shows an exemplary top view of the interconnected solar cells 101. The coefficient of thermal expansion (CTE) of the wire 107 can be matched to the CTE of one or both of the solar cells 103, 105. This can mitigate cracking of a solar cell 103, 105 after connection to the wire 107.A solar cell can include a semiconductor wafer, a front metallization layer, and/or a back metallization layer. The semiconductor wafer can be a silicon wafer. The semiconductor wafer can have a thickness of less than about 300 microns. In some embodiments, the semiconductor wafer is between about 50 microns and about 200 microns thick. In certain embodiments, the semiconductor wafer is between about 50 and about 100 microns thick. In certain other embodiments, the semiconductor wafer is between about 100 and about 200 microns thick. In one embodiment, the semiconductor wafer is about 150 microns thick. In one embodiment, the semiconductor wafer is about 80 microns thick.In certain embodiments, the solar cell includes silicon. The silicon can be doped by materials including boron. A dopant and/or amount of dopant can be chosen to achieve a desired resistivity. In some embodiments, the solar cell can include a Group IV element, such as germanium.In some embodiments, a solar cell can include ribbon silicon, which can be formed by a STRING RIBBON™ technique. In the STRING RIBBON™ technique, two high temperature strings are pulled vertically through a shallow silicon melt, and the molten silicon spans and freezes between the strings. The process is continuous: long strings are unwound from spools; the melt is replenished; and the silicon ribbon is cut to length for further processing, without interrupting growth. This advantage in material efficiency means a STRING RIBBON™ technique yields over twice as many solar cells per pound of silicon as conventional methods. Additionally, the resulting distinctive shape of the solar cell allows for a high packing density.In various embodiments, two or more interconnected solar cells can be laminated to form a solar cell module. In some embodiments, interconnected solar cells can be laminated between a glass layer and a plastic layer. In certain embodiments, the laminated, interconnected solar cells can be framed. The frame can be aluminum or extruded aluminum.FIG. 2A shows an interconnected solar cell 201 including a solar cell 203, a first copper wire 205, and a second copper wire 207. The interconnected solar cell 201 includes a first crack 209 formed proximally to the point of soldering of the first copper wire 205. Soldering to connect the first and second copper wires 205, 207 to the solar cell 203 raises the temperature of each component. Because the first and second copper wires 205, 207 have a higher CTE than the solar cell 203, the first and second copper wires 205, 207 contract more than the solar cell 203 upon cooling. The different rates of contraction upon cooling can form cracks, and/or micro cracks in the solar cell, and reduce manufacturing yield.FIG. 2B also shows an exemplary model for cracking of a solar cell within a solar cell module 213. A glass layer 215 and a backskin layer 217 encapsulate the solar cell 219 to form the solar cell module 213. Applying force to the encapsulated solar cell module 213 can simulate stress to which the solar cell module 213 is exposed during use (e.g., wind, rain, snow, and ice). Stress can form cracks, macroscopic cracks, and/or cracked cells, resulting in problems including solar cell failures and/or power degradation.In solar cells including a semiconductor wafer of thickness greater than about 300 microns, the difference in CTE between the solar cell (e.g., silicon) and the wire (e.g., copper) does necessarily not cause problematic or macroscopic cracking. However, in solar cells including a semiconductor wafer characterized by a thickness less than about 300 microns, stress caused by thermal contraction of the wire upon soldering and cooling can induce cracking and/or microscopic cracks, which can cause problematic or macroscopic cracking.FIG. 3 shows exemplary maximum power (Pmax) degradation as a function of number of cracked solar cells. Table 1 (below) tabulates the data plotted in FIG. 3. The tested modules include wire of copper or copper clad Invar composite. The copper wire was 75 microns thick, excluding solder. The Invar composite wire was 100 microns thick, excluding solder, and included about 50% Invar42 by volume. After interconnecting the solar cells with the two different wires, modules were constructed by encapsulating the interconnected solar cells in glass and plastic backsheet layers. Each module was stressed by loading bricks on the top surface. The power of each module was measured and recorded. Each module was then placed in a thermal cycling chamber and a damp heat environmental chamber to simulate long term environmental exposure, after which the power of each module was again measured and recorded. Each type of wire was tested twice. Modules including Invar composite wires suffered fewer cracked solar cells and less power loss than the modules including copper wires.Table 1. Solar cell module power degradation upon exposure to stress.FIG. 4 shows a cross section of an exemplary composite wire 503 with a round cross section including an Invar core 505 and a copper cladding 507.FIG. 5 shows a cross section of an exemplary composite wire 603 with an oval cross section including an Invar core 605 and a copper cladding 607.FIG. 6 shows a cross section of an exemplary composite wire 703 with a rectangular cross section including an Invar core 705 and a copper cladding 707.Including copper in a composite wire facilitates electrical current flow between solar cells. However, copper's CTE is greater than silicon's CTE, which can cause cracking of the solar cell after soldering. Invar's CTE is about equal to, or lower than, silicon's CTE. Including Invar with copper in a composite wire can help match the CTE of the composite wire to the CTE of silicon, mitigating cracking of the solar cell after soldering.In various embodiments, copper can be substituted by another conductive material (e.g., aluminum, gold, silver). In some embodiments, Invar can be substituted by another low CTE material (e.g., Kovar, Rodar, Havar, or NiIo). The copper and Invar can form a composite, but are not necessarily commingled. The wire can include about 30% to about 90% conductive material by volume. In one embodiment, the wire includes about 50% copper and about 50% Invar. Invar and copper clad Invar are readily available from a number of distributors, including Torpedo Specialty Wire, Inc. (Rocky Mount, NC) and Ulbrich Precision Flat Wire, LLC(Westminster, SC).In some embodiments, the wire is flat, has width of about 1 mm to about 4 mm, and/or a thickness of about 75 to about 200 microns. Increasing a wire's copper content has the advantage of reducing resistive power loss, but the disadvantage of increasing CTE. Increasing a wire's Invar content has the advantage of decreasing CTE. However, increasing a wire's diameter (e.g., the amount of copper and/or Invar) has the disadvantage of increasing interconnected solar cell cost.FIG. 7 shows a thermal expansion profile 801 of an exemplary wire. Composite wires according to the invention can have a CTE such that they do not have a large percent expansion (%E) when heating/cooling between about room temperature (Tl) and about the temperature of soldering (T2). The CTE of the composite wire can be matched to about the CTE of the solar cell by modulating the amount of (i) the low CTE material (e.g., Invar) and (ii) the conductive material (e.g., copper).FIG. 8 shows a section of an interconnected solar cell 901 including a composite wire 903 with an Invar (e.g., Ni-Fe alloy) core 905 and copper cladding 907. Copper has a higher CTE (16.5 ppm/°C) than silicon (2.6 ppm/°C) and Invar has a lower CTE (2 ppm/°C for Invar36) than silicon. The resulting composite wire has a CTE matched to about the CTE of the solar cell (e.g., silicon). Attaching a solar cell including a semiconductor wafer with a thickness of less than about 300 microns (e.g., about 50 to about 200 microns) with a composite wire according the invention can reduce cracking compared to traditional (e.g., copper or tin clad copper) wires.The interconnected solar cell 901 also includes a first 909 epoxy layer, a top 911 solder layer, a bottom 913 solder layer, a second 915 epoxy layer, a front 917 Ag layer, and a silicon wafer 919.FIG. 9 shows exemplary cracking of encapsulated, aluminum framed solar cell modules before and after stress. Piling bricks across the face of each module caused the center, unsupported region of each module to sag. Cracks were counted by applying an electrical bias to the modules such that the cells emitted light in an electroluminescent mode. A video camera with a filter imaged the emitted light. Cracked regions appeared as dark lines or dark regions. Before stressing the solar cell modules, there were essentially no macroscopic cracks in either test set. After stressing the solar cell modules, the copper wire test set (Cu 1-3) develops about an order of magnitude more macroscopic cracks than the composite wire test set (Invar 1-3).FIG. 10 shows a technique for forming an interconnected solar cell. The technique includes providing a first solar cell (step 1103), disposing a second solar cell adjacent the first solar cell (step 1105), and connecting the first and the second solar cells with a wire (step 1107). The first solar cell and the second solar cell can include a silicon wafer that is less than about 300 microns thick. The wire includes a first material having a coefficient of thermal expansion about equal to the first solar cell's coefficient of thermal expansion. The wire also includes a conductive material for facilitating electrical current flow between the first solar cell and the second solar cell.In various embodiments, the wire is soldered to the first solar cell and the second solar cell to electrically connect the solar cells and form the interconnected solar cell. In some embodiments, the first coefficient of thermal expansion and a coefficient of thermal expansion of the wire are matched to mitigate cracking the first solar cell upon soldering and cooling of the wire and the first solar cell.While the invention has been particularly shown and described with reference to specific embodiments, it should be understood by those skilled in the art that various changes in form and detail may be made without departing from the spirit and scope of the invention as defined by the appended claims.'''"
   ]
  },
  {
   "cell_type": "code",
   "execution_count": null,
   "id": "8788b4d5",
   "metadata": {},
   "outputs": [],
   "source": [
    "inputs = tokenizer(patent, return_tensors='pt')\n",
    "prediction = model.generate(**inputs)\n",
    "prediction = tokenizer.batch_decode(prediction)"
   ]
  },
  {
   "cell_type": "code",
   "execution_count": null,
   "id": "a7e5f933",
   "metadata": {},
   "outputs": [],
   "source": []
  },
  {
   "cell_type": "code",
   "execution_count": null,
   "id": "1851ad22",
   "metadata": {},
   "outputs": [],
   "source": []
  },
  {
   "cell_type": "code",
   "execution_count": null,
   "id": "0700a226",
   "metadata": {},
   "outputs": [],
   "source": []
  },
  {
   "cell_type": "code",
   "execution_count": null,
   "id": "fb20967b",
   "metadata": {},
   "outputs": [],
   "source": []
  }
 ],
 "metadata": {
  "kernelspec": {
   "display_name": "conda_pytorch_latest_p36",
   "language": "python",
   "name": "conda_pytorch_latest_p36"
  },
  "language_info": {
   "codemirror_mode": {
    "name": "ipython",
    "version": 3
   },
   "file_extension": ".py",
   "mimetype": "text/x-python",
   "name": "python",
   "nbconvert_exporter": "python",
   "pygments_lexer": "ipython3",
   "version": "3.6.13"
  }
 },
 "nbformat": 4,
 "nbformat_minor": 5
}
